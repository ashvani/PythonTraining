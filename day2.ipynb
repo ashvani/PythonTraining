{
 "cells": [
  {
   "cell_type": "markdown",
   "metadata": {},
   "source": [
    "## Relational Operators"
   ]
  },
  {
   "cell_type": "code",
   "execution_count": null,
   "metadata": {
    "collapsed": true
   },
   "outputs": [],
   "source": []
  },
  {
   "cell_type": "code",
   "execution_count": null,
   "metadata": {
    "collapsed": true
   },
   "outputs": [],
   "source": []
  },
  {
   "cell_type": "markdown",
   "metadata": {},
   "source": [
    "## Compound Relational Operators"
   ]
  },
  {
   "cell_type": "code",
   "execution_count": null,
   "metadata": {},
   "outputs": [],
   "source": [
    "# not operator\n",
    "print(\"not True = \", not True)\n",
    "print(\"not False = \", not False)"
   ]
  },
  {
   "cell_type": "code",
   "execution_count": null,
   "metadata": {},
   "outputs": [],
   "source": [
    "# and operator\n",
    "print(\"False and False = \", False and False)\n",
    "print(\"False and True = \", False and True)\n",
    "print(\"True and False = \", True and False)\n",
    "print(\"True and True = \", True and True)"
   ]
  },
  {
   "cell_type": "code",
   "execution_count": null,
   "metadata": {},
   "outputs": [],
   "source": [
    "# or operator\n",
    "print(\"False or False = \", False or False)\n",
    "print(\"False or True = \", False or True)\n",
    "print(\"True or False = \", True or False)\n",
    "print(\"True or True = \", True or True)"
   ]
  },
  {
   "cell_type": "code",
   "execution_count": null,
   "metadata": {
    "scrolled": true
   },
   "outputs": [],
   "source": [
    "if divisor != 0:\n",
    "    print(dividend, '/', divisor, \"=\", dividend/divisor)"
   ]
  },
  {
   "cell_type": "code",
   "execution_count": null,
   "metadata": {},
   "outputs": [],
   "source": [
    "if divisor != 0:\n",
    "    print(dividend, '/', divisor, \"=\", dividend/divisor)\n",
    "else:\n",
    "    print('Division by zero is not allowed')"
   ]
  },
  {
   "cell_type": "code",
   "execution_count": null,
   "metadata": {
    "collapsed": true
   },
   "outputs": [],
   "source": [
    "# Testing if x is outside the range [10, 20]\n"
   ]
  },
  {
   "cell_type": "code",
   "execution_count": null,
   "metadata": {
    "collapsed": true
   },
   "outputs": [],
   "source": [
    "# Testing if x is a positive and odd number\n"
   ]
  },
  {
   "cell_type": "code",
   "execution_count": null,
   "metadata": {},
   "outputs": [],
   "source": [
    "# [ ] Write an expression to test if x is an even number outside the range [-100, 100]\n",
    "\n",
    "# Test your expression with:\n",
    "# x = 104 (True)\n",
    "# x = 115 (False)\n",
    "# x = -106 (True)\n",
    "# x = -99 (False)\n",
    "x = int(input(\"Enter a number: \"))\n",
    "\n",
    "\n"
   ]
  },
  {
   "cell_type": "code",
   "execution_count": null,
   "metadata": {
    "collapsed": true
   },
   "outputs": [],
   "source": [
    "# [ ] Write an expression to test if a string s starts and ends with a capital letter\n"
   ]
  },
  {
   "cell_type": "markdown",
   "metadata": {},
   "source": [
    "## BMI category\n",
    "The Body Mass Index (BMI) measures the body fat using the weight and height of a person. The BMI is used to classify adults into categories as in the following table.\n",
    "\n",
    "<img src=\"image.png\">"
   ]
  },
  {
   "cell_type": "code",
   "execution_count": null,
   "metadata": {
    "collapsed": true
   },
   "outputs": [],
   "source": [
    "# [ ] Write a program to ask a user for her/his BMI index, then display the user's BMI category\n"
   ]
  },
  {
   "cell_type": "code",
   "execution_count": null,
   "metadata": {},
   "outputs": [],
   "source": [
    "#######what's wrong with the following code?\n",
    "if x = 10:\n",
    "    print('ten')\n",
    "else:\n",
    "    print('not ten')"
   ]
  },
  {
   "cell_type": "code",
   "execution_count": 3,
   "metadata": {},
   "outputs": [],
   "source": [
    "x = ''''''\n",
    "if x:\n",
    "    print('True')"
   ]
  },
  {
   "cell_type": "code",
   "execution_count": 4,
   "metadata": {},
   "outputs": [
    {
     "name": "stdout",
     "output_type": "stream",
     "text": [
      "Please enter an integer value in the range 0...10: 27\n",
      "27 is too large\n",
      "Done\n"
     ]
    }
   ],
   "source": [
    "value = int(input(\"Please enter an integer value in the range 0...10: \"))\n",
    "if value >= 0: # First check\n",
    "    if value <= 10: # Second check\n",
    "        print(value, \"is in range\")\n",
    "    else:\n",
    "        print(value, \"is too large\")\n",
    "else:\n",
    "    print(value, \"is too small\")\n",
    "print(\"Done\")"
   ]
  },
  {
   "cell_type": "markdown",
   "metadata": {},
   "source": [
    "## Conditional expression"
   ]
  },
  {
   "cell_type": "code",
   "execution_count": null,
   "metadata": {},
   "outputs": [],
   "source": [
    "a = 5\n",
    "b = 1\n",
    "x = 10 if a > b else 100\n",
    "print(x)"
   ]
  },
  {
   "cell_type": "code",
   "execution_count": null,
   "metadata": {},
   "outputs": [],
   "source": [
    "val = int(input())\n",
    "if val < 10:\n",
    "    if val != 5:\n",
    "        print(\"wow \", end='')\n",
    "    else:\n",
    "        val += 1\n",
    "else:\n",
    "    if val == 17:\n",
    "        val += 10\n",
    "    else:\n",
    "        print(\"whoa \", end='')\n",
    "print(val)\n",
    "\n",
    "##value when val is following\n",
    "# (a) 3\n",
    "# (b) 21\n",
    "# (c) 5\n",
    "# (d) 17\n",
    "# (e) -5"
   ]
  },
  {
   "cell_type": "markdown",
   "metadata": {},
   "source": [
    "## Iteration...while loop"
   ]
  },
  {
   "cell_type": "code",
   "execution_count": 13,
   "metadata": {},
   "outputs": [
    {
     "name": "stdout",
     "output_type": "stream",
     "text": [
      "1\n",
      "2\n",
      "3\n",
      "4\n",
      "5\n"
     ]
    }
   ],
   "source": [
    "print(1)\n",
    "print(2)\n",
    "print(3)\n",
    "print(4)\n",
    "print(5)"
   ]
  },
  {
   "cell_type": "code",
   "execution_count": null,
   "metadata": {
    "collapsed": true
   },
   "outputs": [],
   "source": []
  },
  {
   "cell_type": "code",
   "execution_count": 14,
   "metadata": {
    "collapsed": true
   },
   "outputs": [],
   "source": [
    "## Keep asking the user to provide entry in specified range"
   ]
  },
  {
   "cell_type": "code",
   "execution_count": null,
   "metadata": {
    "collapsed": true
   },
   "outputs": [],
   "source": []
  },
  {
   "cell_type": "code",
   "execution_count": null,
   "metadata": {
    "collapsed": true
   },
   "outputs": [],
   "source": []
  },
  {
   "cell_type": "code",
   "execution_count": 16,
   "metadata": {},
   "outputs": [
    {
     "name": "stdout",
     "output_type": "stream",
     "text": [
      "( 10 )"
     ]
    }
   ],
   "source": []
  },
  {
   "cell_type": "code",
   "execution_count": null,
   "metadata": {
    "collapsed": true
   },
   "outputs": [],
   "source": [
    "## Iterating over strings"
   ]
  },
  {
   "cell_type": "code",
   "execution_count": null,
   "metadata": {
    "collapsed": true
   },
   "outputs": [],
   "source": []
  },
  {
   "cell_type": "code",
   "execution_count": 26,
   "metadata": {
    "collapsed": true
   },
   "outputs": [],
   "source": [
    "# [ ] Write a program to count the number of punctuation marks (. , ? ! ' \" : ;) in `s`\n",
    "\n",
    "s = \"Once you eliminate the impossible, whatever remains, no matter how improbable, must be the truth.\" # Sherlock Holmes (by Sir Arthur Conan Doyle, 1859-1930)"
   ]
  },
  {
   "cell_type": "code",
   "execution_count": 17,
   "metadata": {},
   "outputs": [
    {
     "name": "stdout",
     "output_type": "stream",
     "text": [
      "45345 is NOT prime\n",
      "Total number of iterations: 2\n"
     ]
    }
   ],
   "source": [
    "# [ ] The following program tests if `num` is prime or not, use a `break` statement to improve its efficiency\n",
    "# and reduce the number of necessary iterations\n",
    "\n",
    "# Compare the number of necessary iterations with and without the `break` statement\n",
    "# Use the following numbers for the comparison: \n",
    "\n",
    "num = 45345\n",
    "#num = 11579\n",
    "#num = 948240\n",
    "#num = 128093\n",
    "#num = 519937\n",
    "#num = 694394\n",
    "prime = True # assume num is prime unless proven otherwise\n",
    "\n",
    "iteration_count = 1\n",
    "\n",
    "########Loop implementation goes here\n",
    "\n",
    "\n",
    "# Display results\n",
    "if prime:\n",
    "    print(num, \"is prime\")\n",
    "else:\n",
    "    print(num, \"is NOT prime\")\n",
    "\n",
    "print(\"Total number of iterations:\", iteration_count)"
   ]
  },
  {
   "cell_type": "markdown",
   "metadata": {},
   "source": [
    "## Nested for loops"
   ]
  },
  {
   "cell_type": "code",
   "execution_count": null,
   "metadata": {
    "collapsed": true
   },
   "outputs": [],
   "source": []
  },
  {
   "cell_type": "code",
   "execution_count": null,
   "metadata": {
    "collapsed": true
   },
   "outputs": [],
   "source": []
  },
  {
   "cell_type": "code",
   "execution_count": 25,
   "metadata": {},
   "outputs": [
    {
     "name": "stdout",
     "output_type": "stream",
     "text": [
      "[]\n",
      "[][]\n",
      "[][][]\n",
      "[][][][]\n",
      "[][][][][]\n",
      "[][][][][][]\n"
     ]
    }
   ],
   "source": [
    "steps = 6\n",
    "for row in range(steps):\n",
    "    for col in range(steps):\n",
    "        if(col <= row):\n",
    "            print(\"[]\", end = \"\")\n",
    "    print()"
   ]
  },
  {
   "cell_type": "code",
   "execution_count": null,
   "metadata": {
    "collapsed": true
   },
   "outputs": [],
   "source": []
  }
 ],
 "metadata": {
  "kernelspec": {
   "display_name": "Python 3",
   "language": "python",
   "name": "python3"
  },
  "language_info": {
   "codemirror_mode": {
    "name": "ipython",
    "version": 3
   },
   "file_extension": ".py",
   "mimetype": "text/x-python",
   "name": "python",
   "nbconvert_exporter": "python",
   "pygments_lexer": "ipython3",
   "version": "3.6.3"
  }
 },
 "nbformat": 4,
 "nbformat_minor": 2
}
