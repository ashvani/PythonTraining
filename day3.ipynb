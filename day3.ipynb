{
 "cells": [
  {
   "cell_type": "markdown",
   "metadata": {},
   "source": [
    "# Formatted String"
   ]
  },
  {
   "cell_type": "code",
   "execution_count": null,
   "metadata": {
    "collapsed": true
   },
   "outputs": [],
   "source": []
  },
  {
   "cell_type": "code",
   "execution_count": null,
   "metadata": {
    "collapsed": true
   },
   "outputs": [],
   "source": []
  },
  {
   "cell_type": "code",
   "execution_count": null,
   "metadata": {
    "collapsed": true
   },
   "outputs": [],
   "source": []
  },
  {
   "cell_type": "code",
   "execution_count": null,
   "metadata": {
    "collapsed": true
   },
   "outputs": [],
   "source": []
  },
  {
   "cell_type": "code",
   "execution_count": null,
   "metadata": {
    "collapsed": true
   },
   "outputs": [],
   "source": []
  },
  {
   "cell_type": "markdown",
   "metadata": {},
   "source": [
    "## Types and flags\n",
    "<img src = \"types.png\">\n",
    "<img src = \"flags1.png\">"
   ]
  },
  {
   "cell_type": "code",
   "execution_count": null,
   "metadata": {
    "collapsed": true
   },
   "outputs": [],
   "source": []
  },
  {
   "cell_type": "code",
   "execution_count": null,
   "metadata": {
    "collapsed": true
   },
   "outputs": [],
   "source": []
  },
  {
   "cell_type": "code",
   "execution_count": 4,
   "metadata": {},
   "outputs": [
    {
     "data": {
      "text/plain": [
       "'\\n\\nRight adjusted : 3.14                \\nCenter adjusted:         3.14        \\nLeft adjusted  :                 3.14\\n'"
      ]
     },
     "execution_count": 4,
     "metadata": {},
     "output_type": "execute_result"
    }
   ],
   "source": [
    "# Get the following output\n",
    "\n",
    "pi = 3.1416\n",
    "\n",
    "\n",
    "'''\n",
    "Right adjusted : 3.14                \n",
    "Center adjusted:         3.14        \n",
    "Left adjusted  :                 3.14\n",
    "'''\n"
   ]
  },
  {
   "cell_type": "markdown",
   "metadata": {},
   "source": [
    "## lists"
   ]
  },
  {
   "cell_type": "code",
   "execution_count": null,
   "metadata": {
    "collapsed": true
   },
   "outputs": [],
   "source": []
  },
  {
   "cell_type": "code",
   "execution_count": null,
   "metadata": {
    "collapsed": true
   },
   "outputs": [],
   "source": []
  },
  {
   "cell_type": "markdown",
   "metadata": {},
   "source": [
    "## indexing and slicing\n"
   ]
  },
  {
   "cell_type": "code",
   "execution_count": null,
   "metadata": {
    "collapsed": true
   },
   "outputs": [],
   "source": []
  },
  {
   "cell_type": "code",
   "execution_count": null,
   "metadata": {
    "collapsed": true
   },
   "outputs": [],
   "source": []
  },
  {
   "cell_type": "markdown",
   "metadata": {},
   "source": [
    "## Concatenation and deletion"
   ]
  },
  {
   "cell_type": "code",
   "execution_count": null,
   "metadata": {
    "collapsed": true
   },
   "outputs": [],
   "source": []
  },
  {
   "cell_type": "code",
   "execution_count": null,
   "metadata": {
    "collapsed": true
   },
   "outputs": [],
   "source": []
  },
  {
   "cell_type": "markdown",
   "metadata": {},
   "source": [
    "## Nested lists"
   ]
  },
  {
   "cell_type": "code",
   "execution_count": null,
   "metadata": {
    "collapsed": true
   },
   "outputs": [],
   "source": []
  },
  {
   "cell_type": "code",
   "execution_count": null,
   "metadata": {
    "collapsed": true
   },
   "outputs": [],
   "source": []
  },
  {
   "cell_type": "code",
   "execution_count": null,
   "metadata": {
    "collapsed": true
   },
   "outputs": [],
   "source": [
    "# [ ] Write a program to count the number of odd numbers in `table`\n",
    "\n",
    "table = [[5, 2, 6], [4, 6, 0], [9, 1, 8], [7, 3, 8]]\n",
    "count = 0"
   ]
  },
  {
   "cell_type": "markdown",
   "metadata": {},
   "source": [
    "## List membership (in keyword)"
   ]
  },
  {
   "cell_type": "code",
   "execution_count": null,
   "metadata": {
    "collapsed": true
   },
   "outputs": [],
   "source": []
  },
  {
   "cell_type": "code",
   "execution_count": null,
   "metadata": {
    "collapsed": true
   },
   "outputs": [],
   "source": []
  },
  {
   "cell_type": "markdown",
   "metadata": {},
   "source": [
    "## List traversal"
   ]
  },
  {
   "cell_type": "code",
   "execution_count": null,
   "metadata": {
    "collapsed": true
   },
   "outputs": [],
   "source": []
  },
  {
   "cell_type": "code",
   "execution_count": null,
   "metadata": {
    "collapsed": true
   },
   "outputs": [],
   "source": []
  },
  {
   "cell_type": "markdown",
   "metadata": {},
   "source": [
    "## List comprehension"
   ]
  },
  {
   "cell_type": "code",
   "execution_count": null,
   "metadata": {
    "collapsed": true
   },
   "outputs": [],
   "source": []
  },
  {
   "cell_type": "code",
   "execution_count": null,
   "metadata": {
    "collapsed": true
   },
   "outputs": [],
   "source": [
    "files = ['tempfile2151260.xlsx',\n",
    " 'tempfile7317487.pdf',\n",
    " 'tempfile5995039.txt',\n",
    " 'tempfile8249372.png',\n",
    " 'tempfile6929113.txt',\n",
    " 'tempfile2163843.txt',\n",
    " 'tempfile9541028.xlsx',\n",
    " 'tempfile2245508.pdf',\n",
    " 'tempfile2107854.xlsx',\n",
    " 'tempfile1612080.pdf',\n",
    " 'tempfile9849796.xlsx',\n",
    " 'tempfile6287256.pdf',\n",
    " 'tempfile2155128.pdf',\n",
    " 'tempfile5147503.txt',\n",
    " 'tempfile5572285.png',\n",
    " 'tempfile8544477.png',\n",
    " 'tempfile7999283.csv',\n",
    " 'tempfile8203624.png',\n",
    " 'tempfile3446330.csv',\n",
    " 'tempfile7617171.pdf',\n",
    " 'tempfile8714291.pdf',\n",
    " 'tempfile5285791.xlsx',\n",
    " 'tempfile2057221.png',\n",
    " 'tempfile8517549.csv',\n",
    " 'tempfile5135530.png',\n",
    " 'tempfile3866615.csv',\n",
    " 'tempfile9487322.txt',\n",
    " 'tempfile4811300.png',\n",
    " 'tempfile5683987.txt',\n",
    " 'tempfile9348883.txt',\n",
    " 'tempfile7222091.csv',\n",
    " 'tempfile3093190.txt',\n",
    " 'tempfile4792909.xlsx',\n",
    " 'tempfile6008567.png',\n",
    " 'tempfile2118350.xlsx',\n",
    " 'tempfile9398077.xlsx',\n",
    " 'tempfile9191208.xlsx',\n",
    " 'tempfile8411022.csv',\n",
    " 'tempfile5931444.pdf',\n",
    " 'tempfile9144121.png',\n",
    " 'tempfile2805282.xlsx',\n",
    " 'tempfile8812934.pdf',\n",
    " 'tempfile1921647.pdf',\n",
    " 'tempfile6969852.txt',\n",
    " 'tempfile9608900.csv',\n",
    " 'tempfile5518816.csv',\n",
    " 'tempfile4771687.txt',\n",
    " 'tempfile1142296.pdf',\n",
    " 'tempfile8458493.csv',\n",
    " 'tempfile1272117.csv',\n",
    " 'tempfile1608491.xlsx',\n",
    " 'tempfile2506196.png',\n",
    " 'tempfile2701014.png',\n",
    " 'tempfile7935471.png',\n",
    " 'tempfile1569528.xlsx',\n",
    " 'tempfile9026396.pdf',\n",
    " 'tempfile9722360.png',\n",
    " 'tempfile4351233.xlsx',\n",
    " 'tempfile3892635.png',\n",
    " 'tempfile9504449.csv',\n",
    " 'tempfile6053759.pdf',\n",
    " 'tempfile6976396.png',\n",
    " 'tempfile8047161.pdf',\n",
    " 'tempfile1641126.txt',\n",
    " 'tempfile1221666.xlsx',\n",
    " 'tempfile7037072.pdf',\n",
    " 'tempfile4622132.png',\n",
    " 'tempfile7135431.xlsx',\n",
    " 'tempfile4889444.png',\n",
    " 'tempfile5221574.csv',\n",
    " 'tempfile6766431.xlsx',\n",
    " 'tempfile1118924.xlsx',\n",
    " 'tempfile4351742.csv',\n",
    " 'tempfile4557845.csv',\n",
    " 'tempfile5091774.txt',\n",
    " 'tempfile4152405.txt',\n",
    " 'tempfile3463248.txt',\n",
    " 'tempfile8203292.png',\n",
    " 'tempfile7582061.txt',\n",
    " 'tempfile3793864.xlsx',\n",
    " 'tempfile1631804.csv',\n",
    " 'tempfile2452880.txt',\n",
    " 'tempfile3752163.xlsx',\n",
    " 'tempfile1233823.txt',\n",
    " 'tempfile5592726.csv',\n",
    " 'tempfile4053860.csv',\n",
    " 'tempfile2976433.txt',\n",
    " 'tempfile5008276.csv',\n",
    " 'tempfile3288884.txt',\n",
    " 'tempfile1965850.pdf',\n",
    " 'tempfile1797269.csv',\n",
    " 'tempfile4768828.txt',\n",
    " 'tempfile7259553.pdf',\n",
    " 'tempfile7906324.png',\n",
    " 'tempfile4517226.pdf',\n",
    " 'tempfile5044632.csv',\n",
    " 'tempfile2659176.pdf',\n",
    " 'tempfile8147171.csv',\n",
    " 'tempfile8391968.xlsx',\n",
    " 'tempfile8654537.pdf']"
   ]
  },
  {
   "cell_type": "code",
   "execution_count": null,
   "metadata": {
    "collapsed": true
   },
   "outputs": [],
   "source": [
    "files"
   ]
  },
  {
   "cell_type": "markdown",
   "metadata": {},
   "source": [
    "## List methods\n",
    "### count, insert, append, index, remove, reverse, sort"
   ]
  },
  {
   "cell_type": "code",
   "execution_count": null,
   "metadata": {
    "collapsed": true
   },
   "outputs": [],
   "source": []
  },
  {
   "cell_type": "code",
   "execution_count": null,
   "metadata": {
    "collapsed": true
   },
   "outputs": [],
   "source": []
  },
  {
   "cell_type": "code",
   "execution_count": null,
   "metadata": {
    "collapsed": true
   },
   "outputs": [],
   "source": [
    "##Q1. build a custom list of non-negative integers specified by the user"
   ]
  },
  {
   "cell_type": "markdown",
   "metadata": {},
   "source": [
    "## Generate 100 file names randomly\n"
   ]
  },
  {
   "cell_type": "code",
   "execution_count": null,
   "metadata": {
    "collapsed": true
   },
   "outputs": [],
   "source": [
    "ext = ['.txt', '.pdf', '.xlsx', '.csv', '.png']\n",
    "from random import randint\n",
    "from random import choice"
   ]
  },
  {
   "cell_type": "code",
   "execution_count": null,
   "metadata": {
    "collapsed": true
   },
   "outputs": [],
   "source": [
    "files = []\n",
    "for x in range(1, 101):\n",
    "    filename = 'tempfile' + str(randint(100, 1000)) + str(randint(1001, 10001))+choice(ext)\n",
    "    files.append(filename)"
   ]
  },
  {
   "cell_type": "code",
   "execution_count": null,
   "metadata": {
    "collapsed": true
   },
   "outputs": [],
   "source": []
  },
  {
   "cell_type": "markdown",
   "metadata": {},
   "source": [
    "# Tuples"
   ]
  },
  {
   "cell_type": "code",
   "execution_count": 3,
   "metadata": {
    "collapsed": true
   },
   "outputs": [],
   "source": [
    "t = tuple()"
   ]
  },
  {
   "cell_type": "code",
   "execution_count": 2,
   "metadata": {
    "collapsed": true
   },
   "outputs": [],
   "source": [
    "t = list()"
   ]
  },
  {
   "cell_type": "code",
   "execution_count": null,
   "metadata": {
    "collapsed": true
   },
   "outputs": [],
   "source": []
  },
  {
   "cell_type": "code",
   "execution_count": null,
   "metadata": {
    "collapsed": true
   },
   "outputs": [],
   "source": []
  },
  {
   "cell_type": "code",
   "execution_count": null,
   "metadata": {
    "collapsed": true
   },
   "outputs": [],
   "source": []
  },
  {
   "cell_type": "code",
   "execution_count": null,
   "metadata": {
    "collapsed": true
   },
   "outputs": [],
   "source": []
  },
  {
   "cell_type": "code",
   "execution_count": null,
   "metadata": {
    "collapsed": true
   },
   "outputs": [],
   "source": []
  },
  {
   "cell_type": "code",
   "execution_count": 1,
   "metadata": {
    "collapsed": true
   },
   "outputs": [],
   "source": [
    "##Q1. # [ ] The list `data` contains personnel information (Name, ID, email)\n",
    "# Write a program using Python-style formatting to print out the data as follows:\n",
    "'''\n",
    "        Name         |     ID     |        Email        \n",
    "________________________________________________________\n",
    "    Suresh Datta     |   57394    |   suresh@example.com\n",
    "  Colette Browning   |   48539    |  colette@example.com\n",
    "     Skye Homsi      |   58302    |     skye@example.com\n",
    "  Hiroto Yamaguchi   |   48502    |   hiroto@example.com\n",
    "   Tobias Ledford    |   48291    |   tobias@example.com\n",
    "       Jin Xu        |   48293    |      jin@example.com\n",
    "     Joana Dias      |   23945    |    joana@example.com\n",
    "    Alton Derosa     |   85823    |    alton@example.com\n",
    "'''\n",
    "\n",
    "data = [[\"Suresh Datta\", 57394, \"suresh@example.com\"], [\"Colette Browning\", 48539, \"colette@example.com\"], [\"Skye Homsi\", 58302, \"skye@example.com\"], [\"Hiroto Yamaguchi\", 48502, \"hiroto@example.com\"], [\"Tobias Ledford\", 48291, \"tobias@example.com\"], [\"Tamara Babic\", 58201, \"tamara@example.com\"], [\"Jin Xu\", 48293, \"jin@example.com\"], [\"Joana Dias\", 23945, \"joana@example.com\"], [\"Alton Derosa\", 85823, \"alton@example.com\"]]"
   ]
  },
  {
   "cell_type": "code",
   "execution_count": 3,
   "metadata": {},
   "outputs": [
    {
     "ename": "TypeError",
     "evalue": "'NoneType' object is not subscriptable",
     "output_type": "error",
     "traceback": [
      "\u001b[1;31m---------------------------------------------------------------------------\u001b[0m",
      "\u001b[1;31mTypeError\u001b[0m                                 Traceback (most recent call last)",
      "\u001b[1;32m<ipython-input-3-a0b621cbe9cf>\u001b[0m in \u001b[0;36m<module>\u001b[1;34m()\u001b[0m\n\u001b[0;32m      4\u001b[0m \u001b[1;33m\u001b[0m\u001b[0m\n\u001b[0;32m      5\u001b[0m \u001b[0mname\u001b[0m \u001b[1;33m=\u001b[0m \u001b[0msplit_name\u001b[0m\u001b[1;33m(\u001b[0m\u001b[1;34m'Ashvani Kumar Dubey'\u001b[0m\u001b[1;33m)\u001b[0m\u001b[1;33m\u001b[0m\u001b[0m\n\u001b[1;32m----> 6\u001b[1;33m \u001b[0mprint\u001b[0m\u001b[1;33m(\u001b[0m\u001b[1;34m'First name: {}'\u001b[0m\u001b[1;33m.\u001b[0m\u001b[0mformat\u001b[0m\u001b[1;33m(\u001b[0m\u001b[0mname\u001b[0m\u001b[1;33m[\u001b[0m\u001b[1;36m0\u001b[0m\u001b[1;33m]\u001b[0m\u001b[1;33m)\u001b[0m\u001b[1;33m)\u001b[0m\u001b[1;33m\u001b[0m\u001b[0m\n\u001b[0m\u001b[0;32m      7\u001b[0m \u001b[0mprint\u001b[0m\u001b[1;33m(\u001b[0m\u001b[1;34m'Last name: {}'\u001b[0m\u001b[1;33m.\u001b[0m\u001b[0mformat\u001b[0m\u001b[1;33m(\u001b[0m\u001b[0mname\u001b[0m\u001b[1;33m[\u001b[0m\u001b[1;36m1\u001b[0m\u001b[1;33m]\u001b[0m\u001b[1;33m)\u001b[0m\u001b[1;33m)\u001b[0m\u001b[1;33m\u001b[0m\u001b[0m\n",
      "\u001b[1;31mTypeError\u001b[0m: 'NoneType' object is not subscriptable"
     ]
    }
   ],
   "source": [
    "#Q. # Split a full name into the first and last names\n",
    "def split_name(name):\n",
    "    pass\n",
    "\n",
    "name = split_name('Ashvani Kumar Dubey')\n",
    "print('First name: {}'.format(name[0]))\n",
    "print('Last name: {}'.format(name[1]))"
   ]
  },
  {
   "cell_type": "code",
   "execution_count": 4,
   "metadata": {
    "collapsed": true
   },
   "outputs": [],
   "source": [
    "# [ ] Write a program to compute the average of the elements in T\n",
    "\n",
    "T = (23, 45, 93, 59, 35, 58, 19, 3)"
   ]
  },
  {
   "cell_type": "code",
   "execution_count": 5,
   "metadata": {},
   "outputs": [
    {
     "name": "stdout",
     "output_type": "stream",
     "text": [
      "Enter a name: 5\n"
     ]
    }
   ],
   "source": [
    "# [ ] The `records` list contains information about some company's employees\n",
    "# each of the elements in `records` is a list containing the name and ID of an employee.\n",
    "# Write a program that prompts the user for a name and return the ID of the employee if a record is found\n",
    "\n",
    "records = [['Colette', 22347], ['Skye', 35803], ['Alton', 45825], ['Jin', 24213]]\n",
    "name = input(\"Enter a name: \")\n",
    "found = False"
   ]
  },
  {
   "cell_type": "code",
   "execution_count": 6,
   "metadata": {
    "collapsed": true
   },
   "outputs": [],
   "source": [
    "# [ ] Complete the function `simple_stats` so it returns:\n",
    "# 1) The maximum number in the tuple T\n",
    "# 2) The minimum number in the tuple T\n",
    "# 3) The average of the numbers in the tuple T\n",
    "\n",
    "def simple_stats(T):\n",
    "    #TODO: your code goes here\n",
    "    pass\n",
    "\n",
    "T = (257, 462, 18, 369, 415, 994, 541, 752, 78, 895, 0, 576, 40, 552, 438, 605, 54, 296, 433, 986, 685, 651, 523, 855, 777, 437, 65, 360, 265, 858, 260, 819, 586, 358, 860, 250, 531, 7, 801, 259, 155, 376, 374, 828, 475, 62, 52, 184, 186, 283, 643, 86, 472, 267, 692, 750, 948, 683, 452, 770, 322, 492, 871, 360, 88, 883, 764, 288, 383, 411, 679, 90, 857, 802, 974, 403, 798, 990, 475, 260, 289, 438, 873, 779, 895, 939, 462, 469, 183, 520, 366, 267, 896, 732, 303, 754, 195, 949, 546, 180)"
   ]
  },
  {
   "cell_type": "code",
   "execution_count": 3,
   "metadata": {},
   "outputs": [
    {
     "data": {
      "text/plain": [
       "'\\nName: Tamara Babic\\nName: Tamara          Babic\\nName: Tamara____ _____Babic\\nName: __Tamara__ __Babic___\\nName: ____Tamara Babic_____\\nName:     Tamara Babic     \\n'"
      ]
     },
     "execution_count": 3,
     "metadata": {},
     "output_type": "execute_result"
    }
   ],
   "source": [
    "# [ ] Use Python-style formatting and the string variables below to generate the following print outputs\n",
    "# HINT: Set the name formatter width to 10 characters\n",
    "\n",
    "first_name = 'Tamara'\n",
    "last_name = 'Babic'\n",
    "\n",
    "'''\n",
    "Name: Tamara Babic\n",
    "Name: Tamara          Babic\n",
    "Name: Tamara____ _____Babic\n",
    "Name: __Tamara__ __Babic___\n",
    "Name: ____Tamara Babic_____\n",
    "Name:     Tamara Babic     \n",
    "'''   "
   ]
  },
  {
   "cell_type": "code",
   "execution_count": null,
   "metadata": {
    "collapsed": true
   },
   "outputs": [],
   "source": []
  },
  {
   "cell_type": "code",
   "execution_count": null,
   "metadata": {
    "collapsed": true
   },
   "outputs": [],
   "source": []
  },
  {
   "cell_type": "code",
   "execution_count": null,
   "metadata": {
    "collapsed": true
   },
   "outputs": [],
   "source": []
  },
  {
   "cell_type": "markdown",
   "metadata": {},
   "source": [
    "## formatted output"
   ]
  },
  {
   "cell_type": "code",
   "execution_count": null,
   "metadata": {
    "collapsed": true
   },
   "outputs": [],
   "source": []
  },
  {
   "cell_type": "code",
   "execution_count": null,
   "metadata": {
    "collapsed": true
   },
   "outputs": [],
   "source": []
  },
  {
   "cell_type": "code",
   "execution_count": null,
   "metadata": {
    "collapsed": true
   },
   "outputs": [],
   "source": []
  },
  {
   "cell_type": "code",
   "execution_count": null,
   "metadata": {
    "collapsed": true
   },
   "outputs": [],
   "source": []
  },
  {
   "cell_type": "code",
   "execution_count": null,
   "metadata": {
    "collapsed": true
   },
   "outputs": [],
   "source": []
  }
 ],
 "metadata": {
  "kernelspec": {
   "display_name": "Python 3",
   "language": "python",
   "name": "python3"
  },
  "language_info": {
   "codemirror_mode": {
    "name": "ipython",
    "version": 3
   },
   "file_extension": ".py",
   "mimetype": "text/x-python",
   "name": "python",
   "nbconvert_exporter": "python",
   "pygments_lexer": "ipython3",
   "version": "3.6.3"
  }
 },
 "nbformat": 4,
 "nbformat_minor": 2
}
